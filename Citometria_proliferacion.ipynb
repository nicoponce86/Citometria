{
 "cells": [
  {
   "cell_type": "code",
   "execution_count": 1,
   "metadata": {},
   "outputs": [],
   "source": [
    "#Determinacion de inmunoproliferaciona de paciente pediatricos del hospital Reina Fabiola por citometría"
   ]
  },
  {
   "cell_type": "code",
   "execution_count": 2,
   "metadata": {},
   "outputs": [],
   "source": [
    "import seaborn as sns\n",
    "import pandas"
   ]
  },
  {
   "cell_type": "code",
   "execution_count": 3,
   "metadata": {},
   "outputs": [
    {
     "data": {
      "text/html": [
       "<div>\n",
       "<style scoped>\n",
       "    .dataframe tbody tr th:only-of-type {\n",
       "        vertical-align: middle;\n",
       "    }\n",
       "\n",
       "    .dataframe tbody tr th {\n",
       "        vertical-align: top;\n",
       "    }\n",
       "\n",
       "    .dataframe thead th {\n",
       "        text-align: right;\n",
       "    }\n",
       "</style>\n",
       "<table border=\"1\" class=\"dataframe\">\n",
       "  <thead>\n",
       "    <tr style=\"text-align: right;\">\n",
       "      <th></th>\n",
       "      <th>Pacientes</th>\n",
       "      <th>%CD3</th>\n",
       "      <th>%CD4</th>\n",
       "      <th>%CD8</th>\n",
       "      <th>rate CD4/CD8</th>\n",
       "      <th>%CD4 Ki67</th>\n",
       "      <th>rate CD4 KI67</th>\n",
       "      <th>%CD4 CD25</th>\n",
       "      <th>rate CD4 CD25</th>\n",
       "      <th>%CD8 Ki67</th>\n",
       "      <th>rate CD8 KI67</th>\n",
       "      <th>%CD8 CD25</th>\n",
       "      <th>rate CD8 CD25</th>\n",
       "      <th>Estimulado</th>\n",
       "      <th>;</th>\n",
       "    </tr>\n",
       "  </thead>\n",
       "  <tbody>\n",
       "    <tr>\n",
       "      <td>0</td>\n",
       "      <td>P1</td>\n",
       "      <td>33.5</td>\n",
       "      <td>77.8</td>\n",
       "      <td>8.13</td>\n",
       "      <td>9.57</td>\n",
       "      <td>8.18</td>\n",
       "      <td>2.03</td>\n",
       "      <td>5.91</td>\n",
       "      <td>2.67</td>\n",
       "      <td>1.35</td>\n",
       "      <td>32.00</td>\n",
       "      <td>1.12</td>\n",
       "      <td>25.47</td>\n",
       "      <td>NO</td>\n",
       "      <td>;</td>\n",
       "    </tr>\n",
       "    <tr>\n",
       "      <td>1</td>\n",
       "      <td>P1</td>\n",
       "      <td>35.7</td>\n",
       "      <td>79.5</td>\n",
       "      <td>10.90</td>\n",
       "      <td>7.29</td>\n",
       "      <td>16.57</td>\n",
       "      <td></td>\n",
       "      <td>15.76</td>\n",
       "      <td></td>\n",
       "      <td>43.20</td>\n",
       "      <td></td>\n",
       "      <td>28.53</td>\n",
       "      <td></td>\n",
       "      <td>SI</td>\n",
       "      <td>;</td>\n",
       "    </tr>\n",
       "    <tr>\n",
       "      <td>2</td>\n",
       "      <td>P2</td>\n",
       "      <td>45.6</td>\n",
       "      <td>60.6</td>\n",
       "      <td>24.40</td>\n",
       "      <td>2.48</td>\n",
       "      <td>5.52</td>\n",
       "      <td>0.99</td>\n",
       "      <td>7.73</td>\n",
       "      <td>1.54</td>\n",
       "      <td>3.83</td>\n",
       "      <td>3.36</td>\n",
       "      <td>1.49</td>\n",
       "      <td>6.46</td>\n",
       "      <td>NO</td>\n",
       "      <td>;</td>\n",
       "    </tr>\n",
       "    <tr>\n",
       "      <td>3</td>\n",
       "      <td>P2</td>\n",
       "      <td>45.9</td>\n",
       "      <td>59.8</td>\n",
       "      <td>24.80</td>\n",
       "      <td>2.41</td>\n",
       "      <td>5.46</td>\n",
       "      <td></td>\n",
       "      <td>11.93</td>\n",
       "      <td></td>\n",
       "      <td>12.87</td>\n",
       "      <td></td>\n",
       "      <td>9.62</td>\n",
       "      <td></td>\n",
       "      <td>SI</td>\n",
       "      <td>;</td>\n",
       "    </tr>\n",
       "  </tbody>\n",
       "</table>\n",
       "</div>"
      ],
      "text/plain": [
       "  Pacientes  %CD3  %CD4   %CD8  rate CD4/CD8  %CD4 Ki67 rate CD4 KI67  \\\n",
       "0        P1  33.5  77.8   8.13          9.57       8.18          2.03   \n",
       "1        P1  35.7  79.5  10.90          7.29      16.57                 \n",
       "2        P2  45.6  60.6  24.40          2.48       5.52          0.99   \n",
       "3        P2  45.9  59.8  24.80          2.41       5.46                 \n",
       "\n",
       "   %CD4 CD25 rate CD4 CD25  %CD8 Ki67 rate CD8 KI67  %CD8 CD25 rate CD8 CD25  \\\n",
       "0       5.91          2.67       1.35         32.00       1.12         25.47   \n",
       "1      15.76                    43.20                    28.53                 \n",
       "2       7.73          1.54       3.83          3.36       1.49          6.46   \n",
       "3      11.93                    12.87                     9.62                 \n",
       "\n",
       "  Estimulado  ;  \n",
       "0         NO  ;  \n",
       "1         SI  ;  \n",
       "2         NO  ;  \n",
       "3         SI  ;  "
      ]
     },
     "execution_count": 3,
     "metadata": {},
     "output_type": "execute_result"
    }
   ],
   "source": [
    "Reina=pandas.read_csv(\"Table-1.csv\")\n",
    "Reina[:]\n",
    "#Resultados del analisis de citometria mediante el software flojo 10"
   ]
  },
  {
   "cell_type": "code",
   "execution_count": 12,
   "metadata": {},
   "outputs": [
    {
     "data": {
      "text/plain": [
       "<matplotlib.axes._subplots.AxesSubplot at 0x1daeeb8b808>"
      ]
     },
     "execution_count": 12,
     "metadata": {},
     "output_type": "execute_result"
    },
    {
     "data": {
      "image/png": "[encoded data removed]",
      "text/plain": [
       "<Figure size 432x288 with 1 Axes>"
      ]
     },
     "metadata": {},
     "output_type": "display_data"
    }
   ],
   "source": [
    "sns.set_context(\"talk\",font_scale=1.4, rc={\"font.scale\":1,\"axes.labelsize\":15,\"lines.linewidth\":5})\n",
    "sns.set_style(\"whitegrid\")\n",
    "sns.barplot(data=Reina, x='Pacientes', y='%CD4 Ki67', hue=\"Estimulado\")"
   ]
  },
  {
   "cell_type": "code",
   "execution_count": 13,
   "metadata": {},
   "outputs": [
    {
     "data": {
      "text/plain": [
       "<matplotlib.axes._subplots.AxesSubplot at 0x1daeec0f348>"
      ]
     },
     "execution_count": 13,
     "metadata": {},
     "output_type": "execute_result"
    },
    {
     "data": {
      "image/png": "[encoded data removed]",
      "text/plain": [
       "<Figure size 432x288 with 1 Axes>"
      ]
     },
     "metadata": {},
     "output_type": "display_data"
    }
   ],
   "source": [
    "sns.set_context(\"talk\",font_scale=1.4, rc={\"font.scale\":1,\"axes.labelsize\":15,\"lines.linewidth\":5})\n",
    "sns.set_style(\"whitegrid\")\n",
    "sns.barplot(data=Reina, x='Pacientes', y='%CD8 Ki67', hue=\"Estimulado\")"
   ]
  },
  {
   "cell_type": "code",
   "execution_count": null,
   "metadata": {},
   "outputs": [],
   "source": []
  }
 ],
 "metadata": {
  "kernelspec": {
   "display_name": "Python 3",
   "language": "python",
   "name": "python3"
  },
  "language_info": {
   "codemirror_mode": {
    "name": "ipython",
    "version": 3
   },
   "file_extension": ".py",
   "mimetype": "text/x-python",
   "name": "python",
   "nbconvert_exporter": "python",
   "pygments_lexer": "ipython3",
   "version": "3.7.4"
  }
 },
 "nbformat": 4,
 "nbformat_minor": 2
}
